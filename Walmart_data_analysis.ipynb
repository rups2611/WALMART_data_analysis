{
 "cells": [
  {
   "cell_type": "code",
   "execution_count": null,
   "id": "0c5671ef-e527-47f9-be03-8e76d893d9e7",
   "metadata": {},
   "outputs": [],
   "source": [
    "!pip install kaggle\n",
    "import kaggle"
   ]
  },
  {
   "cell_type": "code",
   "execution_count": 2,
   "id": "8db79a8e-7c6b-4281-8b9c-f84f1df7c56d",
   "metadata": {},
   "outputs": [
    {
     "name": "stdout",
     "output_type": "stream",
     "text": [
      "Warning: Looks like you're using an outdated API Version, please consider updating (server 1.7.4.2 / client 1.6.17)\n",
      "Dataset URL: https://www.kaggle.com/datasets/najir0123/walmart-10k-sales-datasets\n",
      "License(s): MIT\n",
      "Downloading Walmart.csv to C:\\Users\\rupsh\n",
      "\n"
     ]
    },
    {
     "name": "stderr",
     "output_type": "stream",
     "text": [
      "\n",
      "  0%|          | 0.00/819k [00:00<?, ?B/s]\n",
      "100%|##########| 819k/819k [00:01<00:00, 505kB/s]\n",
      "100%|##########| 819k/819k [00:01<00:00, 505kB/s]\n"
     ]
    }
   ],
   "source": [
    "!kaggle datasets download najir0123/walmart-10k-sales-datasets -f Walmart.csv"
   ]
  },
  {
   "cell_type": "code",
   "execution_count": 3,
   "id": "245fab1a-0d52-4fa4-a102-00cfcbabc873",
   "metadata": {},
   "outputs": [],
   "source": [
    "import pandas as pd"
   ]
  },
  {
   "cell_type": "code",
   "execution_count": 4,
   "id": "ad4c206a-7d1d-4f50-b4d2-7f9617716c7e",
   "metadata": {},
   "outputs": [
    {
     "data": {
      "text/html": [
       "<div>\n",
       "<style scoped>\n",
       "    .dataframe tbody tr th:only-of-type {\n",
       "        vertical-align: middle;\n",
       "    }\n",
       "\n",
       "    .dataframe tbody tr th {\n",
       "        vertical-align: top;\n",
       "    }\n",
       "\n",
       "    .dataframe thead th {\n",
       "        text-align: right;\n",
       "    }\n",
       "</style>\n",
       "<table border=\"1\" class=\"dataframe\">\n",
       "  <thead>\n",
       "    <tr style=\"text-align: right;\">\n",
       "      <th></th>\n",
       "      <th>invoice_id</th>\n",
       "      <th>Branch</th>\n",
       "      <th>City</th>\n",
       "      <th>category</th>\n",
       "      <th>unit_price</th>\n",
       "      <th>quantity</th>\n",
       "      <th>date</th>\n",
       "      <th>time</th>\n",
       "      <th>payment_method</th>\n",
       "      <th>rating</th>\n",
       "      <th>profit_margin</th>\n",
       "    </tr>\n",
       "  </thead>\n",
       "  <tbody>\n",
       "    <tr>\n",
       "      <th>0</th>\n",
       "      <td>1</td>\n",
       "      <td>WALM003</td>\n",
       "      <td>San Antonio</td>\n",
       "      <td>Health and beauty</td>\n",
       "      <td>$74.69</td>\n",
       "      <td>7.0</td>\n",
       "      <td>05/01/19</td>\n",
       "      <td>13:08:00</td>\n",
       "      <td>Ewallet</td>\n",
       "      <td>9.1</td>\n",
       "      <td>0.48</td>\n",
       "    </tr>\n",
       "    <tr>\n",
       "      <th>1</th>\n",
       "      <td>2</td>\n",
       "      <td>WALM048</td>\n",
       "      <td>Harlingen</td>\n",
       "      <td>Electronic accessories</td>\n",
       "      <td>$15.28</td>\n",
       "      <td>5.0</td>\n",
       "      <td>08/03/19</td>\n",
       "      <td>10:29:00</td>\n",
       "      <td>Cash</td>\n",
       "      <td>9.6</td>\n",
       "      <td>0.48</td>\n",
       "    </tr>\n",
       "    <tr>\n",
       "      <th>2</th>\n",
       "      <td>3</td>\n",
       "      <td>WALM067</td>\n",
       "      <td>Haltom City</td>\n",
       "      <td>Home and lifestyle</td>\n",
       "      <td>$46.33</td>\n",
       "      <td>7.0</td>\n",
       "      <td>03/03/19</td>\n",
       "      <td>13:23:00</td>\n",
       "      <td>Credit card</td>\n",
       "      <td>7.4</td>\n",
       "      <td>0.33</td>\n",
       "    </tr>\n",
       "    <tr>\n",
       "      <th>3</th>\n",
       "      <td>4</td>\n",
       "      <td>WALM064</td>\n",
       "      <td>Bedford</td>\n",
       "      <td>Health and beauty</td>\n",
       "      <td>$58.22</td>\n",
       "      <td>8.0</td>\n",
       "      <td>27/01/19</td>\n",
       "      <td>20:33:00</td>\n",
       "      <td>Ewallet</td>\n",
       "      <td>8.4</td>\n",
       "      <td>0.33</td>\n",
       "    </tr>\n",
       "    <tr>\n",
       "      <th>4</th>\n",
       "      <td>5</td>\n",
       "      <td>WALM013</td>\n",
       "      <td>Irving</td>\n",
       "      <td>Sports and travel</td>\n",
       "      <td>$86.31</td>\n",
       "      <td>7.0</td>\n",
       "      <td>08/02/19</td>\n",
       "      <td>10:37:00</td>\n",
       "      <td>Ewallet</td>\n",
       "      <td>5.3</td>\n",
       "      <td>0.48</td>\n",
       "    </tr>\n",
       "    <tr>\n",
       "      <th>...</th>\n",
       "      <td>...</td>\n",
       "      <td>...</td>\n",
       "      <td>...</td>\n",
       "      <td>...</td>\n",
       "      <td>...</td>\n",
       "      <td>...</td>\n",
       "      <td>...</td>\n",
       "      <td>...</td>\n",
       "      <td>...</td>\n",
       "      <td>...</td>\n",
       "      <td>...</td>\n",
       "    </tr>\n",
       "    <tr>\n",
       "      <th>10046</th>\n",
       "      <td>9996</td>\n",
       "      <td>WALM056</td>\n",
       "      <td>Rowlett</td>\n",
       "      <td>Fashion accessories</td>\n",
       "      <td>$37</td>\n",
       "      <td>3.0</td>\n",
       "      <td>03/08/23</td>\n",
       "      <td>10:10:00</td>\n",
       "      <td>Cash</td>\n",
       "      <td>3.0</td>\n",
       "      <td>0.33</td>\n",
       "    </tr>\n",
       "    <tr>\n",
       "      <th>10047</th>\n",
       "      <td>9997</td>\n",
       "      <td>WALM030</td>\n",
       "      <td>Richardson</td>\n",
       "      <td>Home and lifestyle</td>\n",
       "      <td>$58</td>\n",
       "      <td>2.0</td>\n",
       "      <td>22/02/21</td>\n",
       "      <td>14:20:00</td>\n",
       "      <td>Cash</td>\n",
       "      <td>7.0</td>\n",
       "      <td>0.48</td>\n",
       "    </tr>\n",
       "    <tr>\n",
       "      <th>10048</th>\n",
       "      <td>9998</td>\n",
       "      <td>WALM050</td>\n",
       "      <td>Victoria</td>\n",
       "      <td>Fashion accessories</td>\n",
       "      <td>$52</td>\n",
       "      <td>3.0</td>\n",
       "      <td>15/06/23</td>\n",
       "      <td>16:00:00</td>\n",
       "      <td>Credit card</td>\n",
       "      <td>4.0</td>\n",
       "      <td>0.48</td>\n",
       "    </tr>\n",
       "    <tr>\n",
       "      <th>10049</th>\n",
       "      <td>9999</td>\n",
       "      <td>WALM032</td>\n",
       "      <td>Tyler</td>\n",
       "      <td>Home and lifestyle</td>\n",
       "      <td>$79</td>\n",
       "      <td>2.0</td>\n",
       "      <td>25/02/21</td>\n",
       "      <td>12:25:00</td>\n",
       "      <td>Cash</td>\n",
       "      <td>7.0</td>\n",
       "      <td>0.48</td>\n",
       "    </tr>\n",
       "    <tr>\n",
       "      <th>10050</th>\n",
       "      <td>10000</td>\n",
       "      <td>WALM069</td>\n",
       "      <td>Rockwall</td>\n",
       "      <td>Fashion accessories</td>\n",
       "      <td>$62</td>\n",
       "      <td>3.0</td>\n",
       "      <td>26/09/20</td>\n",
       "      <td>9:48:00</td>\n",
       "      <td>Cash</td>\n",
       "      <td>3.0</td>\n",
       "      <td>0.33</td>\n",
       "    </tr>\n",
       "  </tbody>\n",
       "</table>\n",
       "<p>10051 rows × 11 columns</p>\n",
       "</div>"
      ],
      "text/plain": [
       "       invoice_id   Branch         City                category unit_price  \\\n",
       "0               1  WALM003  San Antonio       Health and beauty     $74.69   \n",
       "1               2  WALM048    Harlingen  Electronic accessories     $15.28   \n",
       "2               3  WALM067  Haltom City      Home and lifestyle     $46.33   \n",
       "3               4  WALM064      Bedford       Health and beauty     $58.22   \n",
       "4               5  WALM013       Irving       Sports and travel     $86.31   \n",
       "...           ...      ...          ...                     ...        ...   \n",
       "10046        9996  WALM056      Rowlett     Fashion accessories        $37   \n",
       "10047        9997  WALM030   Richardson      Home and lifestyle        $58   \n",
       "10048        9998  WALM050     Victoria     Fashion accessories        $52   \n",
       "10049        9999  WALM032        Tyler      Home and lifestyle        $79   \n",
       "10050       10000  WALM069     Rockwall     Fashion accessories        $62   \n",
       "\n",
       "       quantity      date      time payment_method  rating  profit_margin  \n",
       "0           7.0  05/01/19  13:08:00        Ewallet     9.1           0.48  \n",
       "1           5.0  08/03/19  10:29:00           Cash     9.6           0.48  \n",
       "2           7.0  03/03/19  13:23:00    Credit card     7.4           0.33  \n",
       "3           8.0  27/01/19  20:33:00        Ewallet     8.4           0.33  \n",
       "4           7.0  08/02/19  10:37:00        Ewallet     5.3           0.48  \n",
       "...         ...       ...       ...            ...     ...            ...  \n",
       "10046       3.0  03/08/23  10:10:00           Cash     3.0           0.33  \n",
       "10047       2.0  22/02/21  14:20:00           Cash     7.0           0.48  \n",
       "10048       3.0  15/06/23  16:00:00    Credit card     4.0           0.48  \n",
       "10049       2.0  25/02/21  12:25:00           Cash     7.0           0.48  \n",
       "10050       3.0  26/09/20   9:48:00           Cash     3.0           0.33  \n",
       "\n",
       "[10051 rows x 11 columns]"
      ]
     },
     "execution_count": 4,
     "metadata": {},
     "output_type": "execute_result"
    }
   ],
   "source": [
    "df=pd.read_csv(r\"C:\\Users\\rupsh\\OneDrive\\Desktop\\DataSets\\Walmart.csv\")\n",
    "df"
   ]
  },
  {
   "cell_type": "code",
   "execution_count": 5,
   "id": "9b0e355c-4827-4926-a37b-a4840f5997df",
   "metadata": {},
   "outputs": [
    {
     "name": "stdout",
     "output_type": "stream",
     "text": [
      "<class 'pandas.core.frame.DataFrame'>\n",
      "RangeIndex: 10051 entries, 0 to 10050\n",
      "Data columns (total 11 columns):\n",
      " #   Column          Non-Null Count  Dtype  \n",
      "---  ------          --------------  -----  \n",
      " 0   invoice_id      10051 non-null  int64  \n",
      " 1   Branch          10051 non-null  object \n",
      " 2   City            10051 non-null  object \n",
      " 3   category        10051 non-null  object \n",
      " 4   unit_price      10020 non-null  object \n",
      " 5   quantity        10020 non-null  float64\n",
      " 6   date            10051 non-null  object \n",
      " 7   time            10051 non-null  object \n",
      " 8   payment_method  10051 non-null  object \n",
      " 9   rating          10051 non-null  float64\n",
      " 10  profit_margin   10051 non-null  float64\n",
      "dtypes: float64(3), int64(1), object(7)\n",
      "memory usage: 863.9+ KB\n"
     ]
    }
   ],
   "source": [
    "df.info()"
   ]
  },
  {
   "cell_type": "code",
   "execution_count": 18,
   "id": "b751ae20-7caa-4326-92d1-f9d42f5b20fb",
   "metadata": {},
   "outputs": [
    {
     "data": {
      "text/html": [
       "<div>\n",
       "<style scoped>\n",
       "    .dataframe tbody tr th:only-of-type {\n",
       "        vertical-align: middle;\n",
       "    }\n",
       "\n",
       "    .dataframe tbody tr th {\n",
       "        vertical-align: top;\n",
       "    }\n",
       "\n",
       "    .dataframe thead th {\n",
       "        text-align: right;\n",
       "    }\n",
       "</style>\n",
       "<table border=\"1\" class=\"dataframe\">\n",
       "  <thead>\n",
       "    <tr style=\"text-align: right;\">\n",
       "      <th></th>\n",
       "      <th>invoice_id</th>\n",
       "      <th>quantity</th>\n",
       "      <th>rating</th>\n",
       "      <th>profit_margin</th>\n",
       "    </tr>\n",
       "  </thead>\n",
       "  <tbody>\n",
       "    <tr>\n",
       "      <th>count</th>\n",
       "      <td>10051.000000</td>\n",
       "      <td>10020.000000</td>\n",
       "      <td>10051.000000</td>\n",
       "      <td>10051.000000</td>\n",
       "    </tr>\n",
       "    <tr>\n",
       "      <th>mean</th>\n",
       "      <td>5025.741220</td>\n",
       "      <td>2.353493</td>\n",
       "      <td>5.825659</td>\n",
       "      <td>0.393791</td>\n",
       "    </tr>\n",
       "    <tr>\n",
       "      <th>std</th>\n",
       "      <td>2901.174372</td>\n",
       "      <td>1.602658</td>\n",
       "      <td>1.763991</td>\n",
       "      <td>0.090669</td>\n",
       "    </tr>\n",
       "    <tr>\n",
       "      <th>min</th>\n",
       "      <td>1.000000</td>\n",
       "      <td>1.000000</td>\n",
       "      <td>3.000000</td>\n",
       "      <td>0.180000</td>\n",
       "    </tr>\n",
       "    <tr>\n",
       "      <th>25%</th>\n",
       "      <td>2513.500000</td>\n",
       "      <td>1.000000</td>\n",
       "      <td>4.000000</td>\n",
       "      <td>0.330000</td>\n",
       "    </tr>\n",
       "    <tr>\n",
       "      <th>50%</th>\n",
       "      <td>5026.000000</td>\n",
       "      <td>2.000000</td>\n",
       "      <td>6.000000</td>\n",
       "      <td>0.330000</td>\n",
       "    </tr>\n",
       "    <tr>\n",
       "      <th>75%</th>\n",
       "      <td>7538.500000</td>\n",
       "      <td>3.000000</td>\n",
       "      <td>7.000000</td>\n",
       "      <td>0.480000</td>\n",
       "    </tr>\n",
       "    <tr>\n",
       "      <th>max</th>\n",
       "      <td>10000.000000</td>\n",
       "      <td>10.000000</td>\n",
       "      <td>10.000000</td>\n",
       "      <td>0.570000</td>\n",
       "    </tr>\n",
       "  </tbody>\n",
       "</table>\n",
       "</div>"
      ],
      "text/plain": [
       "         invoice_id      quantity        rating  profit_margin\n",
       "count  10051.000000  10020.000000  10051.000000   10051.000000\n",
       "mean    5025.741220      2.353493      5.825659       0.393791\n",
       "std     2901.174372      1.602658      1.763991       0.090669\n",
       "min        1.000000      1.000000      3.000000       0.180000\n",
       "25%     2513.500000      1.000000      4.000000       0.330000\n",
       "50%     5026.000000      2.000000      6.000000       0.330000\n",
       "75%     7538.500000      3.000000      7.000000       0.480000\n",
       "max    10000.000000     10.000000     10.000000       0.570000"
      ]
     },
     "execution_count": 18,
     "metadata": {},
     "output_type": "execute_result"
    }
   ],
   "source": [
    "df.describe()"
   ]
  },
  {
   "cell_type": "code",
   "execution_count": 17,
   "id": "20e7a4d2-2731-4356-bd76-5b96ccab746b",
   "metadata": {},
   "outputs": [
    {
     "data": {
      "text/html": [
       "<div>\n",
       "<style scoped>\n",
       "    .dataframe tbody tr th:only-of-type {\n",
       "        vertical-align: middle;\n",
       "    }\n",
       "\n",
       "    .dataframe tbody tr th {\n",
       "        vertical-align: top;\n",
       "    }\n",
       "\n",
       "    .dataframe thead th {\n",
       "        text-align: right;\n",
       "    }\n",
       "</style>\n",
       "<table border=\"1\" class=\"dataframe\">\n",
       "  <thead>\n",
       "    <tr style=\"text-align: right;\">\n",
       "      <th></th>\n",
       "      <th>invoice_id</th>\n",
       "      <th>Branch</th>\n",
       "      <th>City</th>\n",
       "      <th>category</th>\n",
       "      <th>unit_price</th>\n",
       "      <th>quantity</th>\n",
       "      <th>date</th>\n",
       "      <th>time</th>\n",
       "      <th>payment_method</th>\n",
       "      <th>rating</th>\n",
       "      <th>profit_margin</th>\n",
       "    </tr>\n",
       "  </thead>\n",
       "  <tbody>\n",
       "    <tr>\n",
       "      <th>0</th>\n",
       "      <td>1</td>\n",
       "      <td>WALM003</td>\n",
       "      <td>San Antonio</td>\n",
       "      <td>Health and beauty</td>\n",
       "      <td>$74.69</td>\n",
       "      <td>7.0</td>\n",
       "      <td>05/01/19</td>\n",
       "      <td>13:08:00</td>\n",
       "      <td>Ewallet</td>\n",
       "      <td>9.1</td>\n",
       "      <td>0.48</td>\n",
       "    </tr>\n",
       "    <tr>\n",
       "      <th>1</th>\n",
       "      <td>2</td>\n",
       "      <td>WALM048</td>\n",
       "      <td>Harlingen</td>\n",
       "      <td>Electronic accessories</td>\n",
       "      <td>$15.28</td>\n",
       "      <td>5.0</td>\n",
       "      <td>08/03/19</td>\n",
       "      <td>10:29:00</td>\n",
       "      <td>Cash</td>\n",
       "      <td>9.6</td>\n",
       "      <td>0.48</td>\n",
       "    </tr>\n",
       "    <tr>\n",
       "      <th>2</th>\n",
       "      <td>3</td>\n",
       "      <td>WALM067</td>\n",
       "      <td>Haltom City</td>\n",
       "      <td>Home and lifestyle</td>\n",
       "      <td>$46.33</td>\n",
       "      <td>7.0</td>\n",
       "      <td>03/03/19</td>\n",
       "      <td>13:23:00</td>\n",
       "      <td>Credit card</td>\n",
       "      <td>7.4</td>\n",
       "      <td>0.33</td>\n",
       "    </tr>\n",
       "    <tr>\n",
       "      <th>3</th>\n",
       "      <td>4</td>\n",
       "      <td>WALM064</td>\n",
       "      <td>Bedford</td>\n",
       "      <td>Health and beauty</td>\n",
       "      <td>$58.22</td>\n",
       "      <td>8.0</td>\n",
       "      <td>27/01/19</td>\n",
       "      <td>20:33:00</td>\n",
       "      <td>Ewallet</td>\n",
       "      <td>8.4</td>\n",
       "      <td>0.33</td>\n",
       "    </tr>\n",
       "    <tr>\n",
       "      <th>4</th>\n",
       "      <td>5</td>\n",
       "      <td>WALM013</td>\n",
       "      <td>Irving</td>\n",
       "      <td>Sports and travel</td>\n",
       "      <td>$86.31</td>\n",
       "      <td>7.0</td>\n",
       "      <td>08/02/19</td>\n",
       "      <td>10:37:00</td>\n",
       "      <td>Ewallet</td>\n",
       "      <td>5.3</td>\n",
       "      <td>0.48</td>\n",
       "    </tr>\n",
       "  </tbody>\n",
       "</table>\n",
       "</div>"
      ],
      "text/plain": [
       "   invoice_id   Branch         City                category unit_price  \\\n",
       "0           1  WALM003  San Antonio       Health and beauty     $74.69   \n",
       "1           2  WALM048    Harlingen  Electronic accessories     $15.28   \n",
       "2           3  WALM067  Haltom City      Home and lifestyle     $46.33   \n",
       "3           4  WALM064      Bedford       Health and beauty     $58.22   \n",
       "4           5  WALM013       Irving       Sports and travel     $86.31   \n",
       "\n",
       "   quantity      date      time payment_method  rating  profit_margin  \n",
       "0       7.0  05/01/19  13:08:00        Ewallet     9.1           0.48  \n",
       "1       5.0  08/03/19  10:29:00           Cash     9.6           0.48  \n",
       "2       7.0  03/03/19  13:23:00    Credit card     7.4           0.33  \n",
       "3       8.0  27/01/19  20:33:00        Ewallet     8.4           0.33  \n",
       "4       7.0  08/02/19  10:37:00        Ewallet     5.3           0.48  "
      ]
     },
     "execution_count": 17,
     "metadata": {},
     "output_type": "execute_result"
    }
   ],
   "source": [
    "df.head()"
   ]
  },
  {
   "cell_type": "code",
   "execution_count": 20,
   "id": "9eb9fc8d-0a7d-4187-8d3c-e37455ccce31",
   "metadata": {},
   "outputs": [
    {
     "data": {
      "text/plain": [
       "51"
      ]
     },
     "execution_count": 20,
     "metadata": {},
     "output_type": "execute_result"
    }
   ],
   "source": [
    "df.duplicated().sum()"
   ]
  },
  {
   "cell_type": "code",
   "execution_count": 21,
   "id": "2992247d-1d75-488e-a627-4f48cf191944",
   "metadata": {},
   "outputs": [
    {
     "data": {
      "text/plain": [
       "invoice_id         0\n",
       "Branch             0\n",
       "City               0\n",
       "category           0\n",
       "unit_price        31\n",
       "quantity          31\n",
       "date               0\n",
       "time               0\n",
       "payment_method     0\n",
       "rating             0\n",
       "profit_margin      0\n",
       "dtype: int64"
      ]
     },
     "execution_count": 21,
     "metadata": {},
     "output_type": "execute_result"
    }
   ],
   "source": [
    "df.isnull().sum()"
   ]
  },
  {
   "cell_type": "code",
   "execution_count": 22,
   "id": "22e124ee-f811-4e83-8312-b96029155921",
   "metadata": {},
   "outputs": [],
   "source": [
    "df.drop_duplicates(inplace=True)"
   ]
  },
  {
   "cell_type": "code",
   "execution_count": 24,
   "id": "9d04f90e-9ccb-40fe-89f7-4113eb03113a",
   "metadata": {},
   "outputs": [
    {
     "data": {
      "text/plain": [
       "0"
      ]
     },
     "execution_count": 24,
     "metadata": {},
     "output_type": "execute_result"
    }
   ],
   "source": [
    "df.duplicated().sum()"
   ]
  },
  {
   "cell_type": "code",
   "execution_count": 25,
   "id": "befb0454-7e99-466b-9032-bdd9865f0cfb",
   "metadata": {},
   "outputs": [
    {
     "data": {
      "text/plain": [
       "(10000, 11)"
      ]
     },
     "execution_count": 25,
     "metadata": {},
     "output_type": "execute_result"
    }
   ],
   "source": [
    "df.shape"
   ]
  },
  {
   "cell_type": "code",
   "execution_count": 26,
   "id": "d6902d12-995a-43d2-ba92-f39d47249fe9",
   "metadata": {},
   "outputs": [],
   "source": [
    "df.dropna(inplace=True)"
   ]
  },
  {
   "cell_type": "code",
   "execution_count": 28,
   "id": "8e0e6a95-8087-4348-803b-0f761336d0cb",
   "metadata": {},
   "outputs": [
    {
     "data": {
      "text/plain": [
       "invoice_id        0\n",
       "Branch            0\n",
       "City              0\n",
       "category          0\n",
       "unit_price        0\n",
       "quantity          0\n",
       "date              0\n",
       "time              0\n",
       "payment_method    0\n",
       "rating            0\n",
       "profit_margin     0\n",
       "dtype: int64"
      ]
     },
     "execution_count": 28,
     "metadata": {},
     "output_type": "execute_result"
    }
   ],
   "source": [
    "df.isnull().sum()"
   ]
  },
  {
   "cell_type": "code",
   "execution_count": 29,
   "id": "a4ceec65-6fe5-4444-9814-270c9f5a9127",
   "metadata": {},
   "outputs": [
    {
     "data": {
      "text/plain": [
       "(9969, 11)"
      ]
     },
     "execution_count": 29,
     "metadata": {},
     "output_type": "execute_result"
    }
   ],
   "source": [
    "df.shape"
   ]
  },
  {
   "cell_type": "code",
   "execution_count": 32,
   "id": "59e0455b-3688-4341-9b32-f3b908ec9d06",
   "metadata": {},
   "outputs": [],
   "source": [
    " df['unit_price']=df['unit_price'].str.replace('$','')"
   ]
  },
  {
   "cell_type": "code",
   "execution_count": 34,
   "id": "752c0856-120a-4e63-96e6-c64501d790df",
   "metadata": {},
   "outputs": [
    {
     "data": {
      "text/plain": [
       "dtype('O')"
      ]
     },
     "execution_count": 34,
     "metadata": {},
     "output_type": "execute_result"
    }
   ],
   "source": [
    "df['unit_price'].dtype"
   ]
  },
  {
   "cell_type": "code",
   "execution_count": 35,
   "id": "d90ae5ac-40de-4bc7-b4e7-10a2ad25fb61",
   "metadata": {},
   "outputs": [],
   "source": [
    "df['unit_price']=df['unit_price'].astype('float')"
   ]
  },
  {
   "cell_type": "code",
   "execution_count": 36,
   "id": "ccf9e717-9ca1-4287-b2c7-8aa82cf89878",
   "metadata": {},
   "outputs": [
    {
     "data": {
      "text/plain": [
       "dtype('float64')"
      ]
     },
     "execution_count": 36,
     "metadata": {},
     "output_type": "execute_result"
    }
   ],
   "source": [
    "df['unit_price'].dtype"
   ]
  },
  {
   "cell_type": "code",
   "execution_count": 38,
   "id": "3a6a2b31-f4da-4406-b472-b0f3dd6eac55",
   "metadata": {},
   "outputs": [],
   "source": [
    "df['Total']=df['unit_price']*df['quantity']"
   ]
  },
  {
   "cell_type": "code",
   "execution_count": 39,
   "id": "ceb50870-be35-4a09-8c73-0ac62e4fc207",
   "metadata": {},
   "outputs": [
    {
     "data": {
      "text/plain": [
       "Index(['invoice_id', 'Branch', 'City', 'category', 'unit_price', 'quantity',\n",
       "       'date', 'time', 'payment_method', 'rating', 'profit_margin', 'Total'],\n",
       "      dtype='object')"
      ]
     },
     "execution_count": 39,
     "metadata": {},
     "output_type": "execute_result"
    }
   ],
   "source": [
    "df.columns"
   ]
  },
  {
   "cell_type": "code",
   "execution_count": 40,
   "id": "99d2450c-b9e1-4623-8fcf-94d33132c7a8",
   "metadata": {},
   "outputs": [
    {
     "data": {
      "text/plain": [
       "dtype('float64')"
      ]
     },
     "execution_count": 40,
     "metadata": {},
     "output_type": "execute_result"
    }
   ],
   "source": [
    "df['Total'].dtype"
   ]
  },
  {
   "cell_type": "code",
   "execution_count": 43,
   "id": "599123eb-56d4-4417-a827-dee055e8fc7d",
   "metadata": {},
   "outputs": [],
   "source": [
    "from datetime import datetime\n",
    "\n",
    "# Generate today's date\n",
    "today = datetime.today().strftime('%Y-%m-%d')\n",
    "\n",
    "# Create filename with date\n",
    "filename = f\"cleaned_Walmat_data_{today}.csv\"\n",
    "\n",
    "# Save the DataFrame\n",
    "df.to_csv(filename, index=False)\n"
   ]
  },
  {
   "cell_type": "code",
   "execution_count": 49,
   "id": "1ac7ec71-d71b-469e-9d8a-faaa79ae6b57",
   "metadata": {},
   "outputs": [],
   "source": [
    "# converting columns name to standard format.\n",
    "df.columns=df.columns.str.lower()"
   ]
  },
  {
   "cell_type": "code",
   "execution_count": 59,
   "id": "919fde30-e72c-47eb-8e2d-a4a4061be2de",
   "metadata": {},
   "outputs": [
    {
     "name": "stdout",
     "output_type": "stream",
     "text": [
      "<class 'pandas.core.frame.DataFrame'>\n",
      "Index: 9969 entries, 0 to 9999\n",
      "Data columns (total 12 columns):\n",
      " #   Column          Non-Null Count  Dtype  \n",
      "---  ------          --------------  -----  \n",
      " 0   invoice_id      9969 non-null   int64  \n",
      " 1   branch          9969 non-null   object \n",
      " 2   city            9969 non-null   object \n",
      " 3   category        9969 non-null   object \n",
      " 4   unit_price      9969 non-null   float64\n",
      " 5   quantity        9969 non-null   float64\n",
      " 6   date            9969 non-null   object \n",
      " 7   time            9969 non-null   object \n",
      " 8   payment_method  9969 non-null   object \n",
      " 9   rating          9969 non-null   float64\n",
      " 10  profit_margin   9969 non-null   float64\n",
      " 11  total           9969 non-null   float64\n",
      "dtypes: float64(5), int64(1), object(6)\n",
      "memory usage: 1012.5+ KB\n"
     ]
    }
   ],
   "source": [
    "df.info()"
   ]
  },
  {
   "cell_type": "code",
   "execution_count": 65,
   "id": "c6b3dec5-e63d-4b71-bbec-37e9fa4c9877",
   "metadata": {},
   "outputs": [
    {
     "data": {
      "text/plain": [
       "invoice_id          int64\n",
       "branch             object\n",
       "city               object\n",
       "category           object\n",
       "unit_price        float64\n",
       "quantity          float64\n",
       "date               object\n",
       "time               object\n",
       "payment_method     object\n",
       "rating            float64\n",
       "profit_margin     float64\n",
       "total             float64\n",
       "dtype: object"
      ]
     },
     "execution_count": 65,
     "metadata": {},
     "output_type": "execute_result"
    }
   ],
   "source": [
    "df.dtypes"
   ]
  },
  {
   "cell_type": "code",
   "execution_count": 81,
   "id": "77900fd3-3518-46a2-9141-64c330d50d37",
   "metadata": {},
   "outputs": [],
   "source": [
    "df['date']=pd.to_datetime(df['date'],format='%d-%m-%Y')"
   ]
  },
  {
   "cell_type": "code",
   "execution_count": 82,
   "id": "db4a8582-4f71-4c2a-95e6-43ca20c755ff",
   "metadata": {},
   "outputs": [
    {
     "data": {
      "text/plain": [
       "0      2019-05-01\n",
       "1      2019-08-03\n",
       "2      2019-03-03\n",
       "3      2019-01-27\n",
       "4      2019-08-02\n",
       "          ...    \n",
       "9995   2023-03-08\n",
       "9996   2021-02-22\n",
       "9997   2023-06-15\n",
       "9998   2021-02-25\n",
       "9999   2020-09-26\n",
       "Name: date, Length: 9969, dtype: datetime64[ns]"
      ]
     },
     "execution_count": 82,
     "metadata": {},
     "output_type": "execute_result"
    }
   ],
   "source": [
    "df['date']"
   ]
  },
  {
   "cell_type": "code",
   "execution_count": 83,
   "id": "1ef388a6-5abf-4e92-b7e5-8fa6efe40401",
   "metadata": {},
   "outputs": [
    {
     "data": {
      "text/plain": [
       "dtype('<M8[ns]')"
      ]
     },
     "execution_count": 83,
     "metadata": {},
     "output_type": "execute_result"
    }
   ],
   "source": [
    "df['date'].dtype"
   ]
  },
  {
   "cell_type": "code",
   "execution_count": 84,
   "id": "0251b2a4-fb3c-4ca6-9d39-ca5bb498c6d0",
   "metadata": {},
   "outputs": [],
   "source": [
    "df['time']=pd.to_datetime(df['time'],format='%H:%M:%S')"
   ]
  },
  {
   "cell_type": "code",
   "execution_count": 86,
   "id": "66baa82c-dc63-4229-adba-7b43b769a74b",
   "metadata": {},
   "outputs": [
    {
     "data": {
      "text/plain": [
       "dtype('<M8[ns]')"
      ]
     },
     "execution_count": 86,
     "metadata": {},
     "output_type": "execute_result"
    }
   ],
   "source": [
    "df['time'].dtype"
   ]
  },
  {
   "cell_type": "code",
   "execution_count": 41,
   "id": "96881f76-44e5-44d6-bc6e-a72ab688f094",
   "metadata": {},
   "outputs": [],
   "source": [
    "# load the dataframe to postgresql.\n",
    "import psycopg2"
   ]
  },
  {
   "cell_type": "code",
   "execution_count": 87,
   "id": "2643264a-c2b4-4d46-b008-56ae9107cc4a",
   "metadata": {},
   "outputs": [],
   "source": [
    "conn=psycopg2.connect(\n",
    "    dbname=\"Walmart_db\",\n",
    "    user=\"postgres\",\n",
    "    password=\"Rs@23925\",\n",
    "    host=\"localhost\",\n",
    "    port=\"5432\"\n",
    ")\n",
    "cur=conn.cursor()"
   ]
  },
  {
   "cell_type": "code",
   "execution_count": 88,
   "id": "bc583803-de7e-45d8-9887-477bf389bcb9",
   "metadata": {},
   "outputs": [],
   "source": [
    "create_table=\"\"\"\n",
    "CREATE TABLE IF NOT EXISTS WALMART(\n",
    "invoice_id int PRIMARY KEY,\n",
    "branch varchar(25),\n",
    "city varchar(50),\n",
    "category varchar(100),\n",
    "unit_price float,\n",
    "quantity float,\n",
    "date date,\n",
    "time time,\n",
    "payment_method varchar(20),\n",
    "rating float,\n",
    "profit_margin float,\n",
    "total float\n",
    ");\n",
    "\"\"\"\n",
    "\n",
    "\n"
   ]
  },
  {
   "cell_type": "code",
   "execution_count": 89,
   "id": "d30603a9-26b5-4718-99f9-42f8b77f93bd",
   "metadata": {},
   "outputs": [],
   "source": [
    "cur.execute(create_table)\n",
    "conn.commit()"
   ]
  },
  {
   "cell_type": "code",
   "execution_count": 91,
   "id": "1b668b86-b748-4466-9f74-8b19313ca08b",
   "metadata": {},
   "outputs": [],
   "source": [
    "for _ , row in df.iterrows():\n",
    "    insert_query=\"\"\"\n",
    "    Insert into WALMART(invoice_id,branch,city,category,unit_price,quantity,date,time,payment_method,rating,profit_margin,total)\n",
    "    values(%s,%s,%s,%s,%s,%s,%s,%s,%s,%s,%s,%s)\"\"\"\n",
    "    cur.execute(insert_query,tuple(row))\n",
    "conn.commit()"
   ]
  },
  {
   "cell_type": "code",
   "execution_count": 93,
   "id": "3eca637f-22f1-4542-b568-ce28590ec8aa",
   "metadata": {},
   "outputs": [],
   "source": [
    "cur.close()\n",
    "conn.close()"
   ]
  },
  {
   "cell_type": "code",
   "execution_count": 94,
   "id": "76d9484d-77b7-4e65-80b5-899362ab83fb",
   "metadata": {},
   "outputs": [
    {
     "data": {
      "text/plain": [
       "(9969, 12)"
      ]
     },
     "execution_count": 94,
     "metadata": {},
     "output_type": "execute_result"
    }
   ],
   "source": [
    "df.shape"
   ]
  },
  {
   "cell_type": "code",
   "execution_count": null,
   "id": "5b4906d9-b1df-4270-a13a-feb9202b5fb4",
   "metadata": {},
   "outputs": [],
   "source": []
  }
 ],
 "metadata": {
  "kernelspec": {
   "display_name": "Python 3 (ipykernel)",
   "language": "python",
   "name": "python3"
  },
  "language_info": {
   "codemirror_mode": {
    "name": "ipython",
    "version": 3
   },
   "file_extension": ".py",
   "mimetype": "text/x-python",
   "name": "python",
   "nbconvert_exporter": "python",
   "pygments_lexer": "ipython3",
   "version": "3.11.7"
  }
 },
 "nbformat": 4,
 "nbformat_minor": 5
}
